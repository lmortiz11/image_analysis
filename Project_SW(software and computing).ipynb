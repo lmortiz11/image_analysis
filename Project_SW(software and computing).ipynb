{
 "cells": [
  {
   "cell_type": "code",
   "execution_count": null,
   "metadata": {
    "colab": {
     "base_uri": "https://localhost:8080/",
     "height": 34
    },
    "colab_type": "code",
    "id": "aiH3lhwTJTyW",
    "outputId": "d8f5de26-8fcc-4577-f0b2-27585b2ff556"
   },
   "outputs": [
    {
     "name": "stderr",
     "output_type": "stream",
     "text": [
      "Using TensorFlow backend.\n"
     ]
    }
   ],
   "source": [
    "import numpy as np\n",
    "from keras.utils import to_categorical\n",
    "import matplotlib.pyplot as plt\n",
    "from sklearn.model_selection import train_test_split\n",
    "import keras\n",
    "from keras.models import Sequential,Input,Model\n",
    "from keras.layers import Dense, Dropout, Flatten\n",
    "from keras.layers import Conv2D, MaxPooling2D\n",
    "from keras.layers.normalization import BatchNormalization\n",
    "from keras.layers.advanced_activations import LeakyReLU\n",
    "\n",
    "from keras.models import Sequential\n",
    "from keras.layers import Dense\n",
    "from keras.wrappers.scikit_learn import KerasClassifier\n",
    "from keras.utils import np_utils\n",
    "\n",
    "\n",
    "# sklearn\n",
    "from sklearn.preprocessing import LabelEncoder\n",
    "from sklearn.pipeline import Pipeline\n",
    "from sklearn.model_selection import train_test_split\n",
    "from sklearn.model_selection import cross_val_score\n",
    "from sklearn.model_selection import KFold"
   ]
  },
  {
   "cell_type": "markdown",
   "metadata": {
    "colab_type": "text",
    "id": "9K4yO_RC3_hP"
   },
   "source": [
    "First we import the data from the Keras dataset. For this project we are going to use the fashion mist dataset. This data contained a training set of 60,000 examples and a test set of 10,000. The examples are a 28X28 gray images, which can be label from 10 classes."
   ]
  },
  {
   "cell_type": "code",
   "execution_count": null,
   "metadata": {
    "colab": {},
    "colab_type": "code",
    "id": "ieuLP3jPJaUP"
   },
   "outputs": [],
   "source": [
    "from keras.datasets import fashion_mnist"
   ]
  },
  {
   "cell_type": "markdown",
   "metadata": {
    "colab_type": "text",
    "id": "UM5w79E9Lk81"
   },
   "source": [
    "**Upload data and studying it** "
   ]
  },
  {
   "cell_type": "markdown",
   "metadata": {
    "colab_type": "text",
    "id": "9jXUypKoKQzy"
   },
   "source": [
    "From the upload data we obtained the variables for the X_train, Y_train and the X_test and Y_test."
   ]
  },
  {
   "cell_type": "code",
   "execution_count": null,
   "metadata": {
    "colab": {
     "base_uri": "https://localhost:8080/",
     "height": 153
    },
    "colab_type": "code",
    "id": "P4jMWESzJdNO",
    "outputId": "68b745c5-c691-4173-a6bd-1b2e205ebd02"
   },
   "outputs": [
    {
     "name": "stdout",
     "output_type": "stream",
     "text": [
      "Downloading data from http://fashion-mnist.s3-website.eu-central-1.amazonaws.com/train-labels-idx1-ubyte.gz\n",
      "32768/29515 [=================================] - 0s 3us/step\n",
      "Downloading data from http://fashion-mnist.s3-website.eu-central-1.amazonaws.com/train-images-idx3-ubyte.gz\n",
      "26427392/26421880 [==============================] - 2s 0us/step\n",
      "Downloading data from http://fashion-mnist.s3-website.eu-central-1.amazonaws.com/t10k-labels-idx1-ubyte.gz\n",
      "8192/5148 [===============================================] - 0s 0us/step\n",
      "Downloading data from http://fashion-mnist.s3-website.eu-central-1.amazonaws.com/t10k-images-idx3-ubyte.gz\n",
      "4423680/4422102 [==============================] - 1s 0us/step\n"
     ]
    }
   ],
   "source": [
    "(X_train,Y_train), (X_test,Y_test) = fashion_mnist.load_data()"
   ]
  },
  {
   "cell_type": "code",
   "execution_count": null,
   "metadata": {
    "colab": {
     "base_uri": "https://localhost:8080/",
     "height": 208
    },
    "colab_type": "code",
    "id": "bWnhDej8816S",
    "outputId": "1897b840-cc9f-4c91-9152-0cd1128a510d"
   },
   "outputs": [
    {
     "data": {
      "text/plain": [
       "Text(0.5, 1.0, 'Ground Truth : 9')"
      ]
     },
     "execution_count": 4,
     "metadata": {
      "tags": []
     },
     "output_type": "execute_result"
    },
    {
     "data": {
      "image/png": "[encoded data removed]",
      "text/plain": [
       "<Figure size 360x360 with 2 Axes>"
      ]
     },
     "metadata": {
      "tags": []
     },
     "output_type": "display_data"
    }
   ],
   "source": [
    "plt.figure(figsize=[5,5])\n",
    "\n",
    "# Display the first image in training data\n",
    "plt.subplot(121)\n",
    "plt.imshow(X_train[1,:,:], cmap='gray')\n",
    "plt.title(\"Ground Truth : {}\".format(Y_train[0]))\n",
    "\n",
    "# Display the first image in testing data\n",
    "plt.subplot(122)\n",
    "plt.imshow(X_test[1,:,:], cmap='gray')\n",
    "plt.title(\"Ground Truth : {}\".format(Y_test[0]))"
   ]
  },
  {
   "cell_type": "markdown",
   "metadata": {
    "colab_type": "text",
    "id": "xzODVz574PfK"
   },
   "source": [
    "After importing the data we can see the dimention of the image "
   ]
  },
  {
   "cell_type": "code",
   "execution_count": null,
   "metadata": {
    "colab": {
     "base_uri": "https://localhost:8080/",
     "height": 51
    },
    "colab_type": "code",
    "id": "1OAgESv_J6YV",
    "outputId": "f9a392cd-a085-49be-cee2-ceaff3e98f99"
   },
   "outputs": [
    {
     "name": "stdout",
     "output_type": "stream",
     "text": [
      "Training data shape :  (60000, 28, 28) (60000,)\n",
      "Testing data shape :  (10000, 28, 28) (10000,)\n"
     ]
    }
   ],
   "source": [
    "print('Training data shape : ', X_train.shape, Y_train.shape)\n",
    "\n",
    "print('Testing data shape : ', X_test.shape, Y_test.shape)"
   ]
  },
  {
   "cell_type": "markdown",
   "metadata": {
    "colab_type": "text",
    "id": "VxBrYhqAL8AK"
   },
   "source": [
    "From this we check that we have 60000 trained samples and 10000 testing samples and that each one has a dimension of 28X28.\n",
    "\n",
    "---\n",
    "\n"
   ]
  },
  {
   "cell_type": "markdown",
   "metadata": {
    "colab_type": "text",
    "id": "CG27OouRMhqm"
   },
   "source": [
    "From the images shown above, we can see that the images are in gray scale and have a pixel values that goes from 0 to 255 and a size of 28X28, so in this case we need to:\n",
    "\n",
    "*   Convert each image into a matrix of 28X28X1\n",
    "*   Convert the data format from int8 to float32\n",
    "*   Rescale the pixel for values beetween 0-1\n",
    "\n",
    "\n",
    "\n",
    "\n",
    "\n"
   ]
  },
  {
   "cell_type": "markdown",
   "metadata": {
    "colab_type": "text",
    "id": "H-b_eR_eIR6L"
   },
   "source": [
    "First of all we rescale the image to 28X28X1, since for doing the convolutional network the image need to have a dimension of 28(height)X28(Breadth)X1(Number of channels)"
   ]
  },
  {
   "cell_type": "code",
   "execution_count": null,
   "metadata": {
    "colab": {
     "base_uri": "https://localhost:8080/",
     "height": 34
    },
    "colab_type": "code",
    "id": "fMIpVZ0APk4O",
    "outputId": "35494017-0b82-47ae-f4aa-e88771f11f00"
   },
   "outputs": [
    {
     "data": {
      "text/plain": [
       "((60000, 28, 28, 1), (10000, 28, 28, 1))"
      ]
     },
     "execution_count": 6,
     "metadata": {
      "tags": []
     },
     "output_type": "execute_result"
    }
   ],
   "source": [
    "X_train = X_train.reshape(-1, 28,28, 1)\n",
    "X_test  = X_test.reshape(-1, 28,28, 1)\n",
    "X_train.shape, X_test.shape"
   ]
  },
  {
   "cell_type": "markdown",
   "metadata": {
    "colab_type": "text",
    "id": "Osc_ia6sIW5A"
   },
   "source": [
    "Then we change the format to float32 using the function astype. \n",
    "Then we divide this number between 255 in order to have a pixel value that goes from 0 to 1."
   ]
  },
  {
   "cell_type": "code",
   "execution_count": null,
   "metadata": {
    "colab": {},
    "colab_type": "code",
    "id": "7P6gYr3XUO53"
   },
   "outputs": [],
   "source": [
    "X_train = X_train.astype('float32')\n",
    "X_test = X_test.astype('float32')\n",
    "X_train = X_train / 255.\n",
    "X_test = X_test / 255."
   ]
  },
  {
   "cell_type": "markdown",
   "metadata": {
    "colab_type": "text",
    "id": "5u5qbSBhxGuf"
   },
   "source": [
    "# **Now we need to do one hot encoding vector.**\n",
    "\n",
    "\n",
    "\n"
   ]
  },
  {
   "cell_type": "markdown",
   "metadata": {
    "colab_type": "text",
    "id": "OcMnlNPcKrWj"
   },
   "source": [
    "Now we have that the labels for the images is only a number (integer), so we need to encode this to a vector. For doing this we are going to use numpy utility which is to categorical. "
   ]
  },
  {
   "cell_type": "code",
   "execution_count": null,
   "metadata": {
    "colab": {},
    "colab_type": "code",
    "id": "Qv33W42oB_RX"
   },
   "outputs": [],
   "source": [
    "transformed_Y_train = np_utils.to_categorical(Y_train)\n",
    "transformed_Y_test = np_utils.to_categorical(Y_test)"
   ]
  },
  {
   "cell_type": "code",
   "execution_count": null,
   "metadata": {
    "colab": {
     "base_uri": "https://localhost:8080/",
     "height": 51
    },
    "colab_type": "code",
    "id": "Bk43KjHFxFlM",
    "outputId": "c536709f-584e-42de-e991-c5f8a8cb8f41"
   },
   "outputs": [
    {
     "name": "stdout",
     "output_type": "stream",
     "text": [
      "Original label: 9\n",
      "After conversion to one-hot: [0. 0. 0. 0. 0. 0. 0. 0. 0. 1.]\n"
     ]
    }
   ],
   "source": [
    "# Change the labels from categorical to one-hot encoding\n",
    "Y_train_encode = to_categorical(Y_train)\n",
    "Y_test_encode = to_categorical(Y_test)\n",
    "\n",
    "# Let's print the original label and the label using one-hot encoding.\n",
    "print('Original label:', Y_train[0])\n",
    "print('After conversion to one-hot:', Y_train_encode[0])"
   ]
  },
  {
   "cell_type": "markdown",
   "metadata": {
    "colab_type": "text",
    "id": "2uMJ22MTOphr"
   },
   "source": [
    "Now we need to split the data in two parts, one part for training and the other for validation. \n",
    "\n",
    "\n",
    "\n",
    "*   Lets train 80% of the trained data and validate it on 20%.\n",
    "\n",
    "\n"
   ]
  },
  {
   "cell_type": "code",
   "execution_count": null,
   "metadata": {
    "colab": {},
    "colab_type": "code",
    "id": "RC48yEotxmag"
   },
   "outputs": [],
   "source": [
    "\n",
    "X_train,X_valid,train_label,valid_label= train_test_split(X_train, Y_train_encode, test_size=0.2, random_state=13 )\n"
   ]
  },
  {
   "cell_type": "markdown",
   "metadata": {
    "colab_type": "text",
    "id": "e1vOzS-3NGPO"
   },
   "source": [
    "# **Creating the network**"
   ]
  },
  {
   "cell_type": "code",
   "execution_count": null,
   "metadata": {
    "colab": {},
    "colab_type": "code",
    "id": "xq1GK0KI0jl0"
   },
   "outputs": [],
   "source": [
    "#Batch size is the number of samples processed before the model is updated, the batch size should be greater or equal to one and smaller than the number of trained \n",
    "#samples in the dataset\n",
    "batch_size = 128\n",
    "#Epoch is the number of complete passes through the training data. This can be between 1 and infitite. \n",
    "epochs = 20\n",
    "num_classes = 10"
   ]
  },
  {
   "cell_type": "markdown",
   "metadata": {
    "colab_type": "text",
    "id": "Fn_Va0YmNxGh"
   },
   "source": [
    "For this model, we are going to use a 2D convolutional layer and a maxpooling2D.\n",
    "\n",
    "**The convolutional layer 2D**\n",
    "\n",
    "\n",
    "**Pooling layer**\n",
    "\n",
    "The pooling layer reduce the spatial size of the convolved feature, in order to reduce the computational power through the reduction of dimentionality. It reduce the dimentionality of images by reducing the number of pixels.  Also, it is useful for extracting dominant features. There are diferent pooling. the one I am using is the max pooling, it returns the maximum value from the portion of the image converted by the kernel."
   ]
  },
  {
   "cell_type": "markdown",
   "metadata": {
    "colab_type": "text",
    "id": "_R1DkpSezqtY"
   },
   "source": [
    "Using three convolutional layers where:\n",
    "In the first layer we have 32 3X3 filters, \n",
    "in the second, 64 3X3 filters and \n",
    "in the last one 128 3X3 filters. \n",
    "Additional to this we put three max-pooling layers of size 2X2"
   ]
  },
  {
   "cell_type": "code",
   "execution_count": null,
   "metadata": {
    "colab": {
     "base_uri": "https://localhost:8080/",
     "height": 190
    },
    "colab_type": "code",
    "id": "zom2SETC022m",
    "outputId": "97595e38-cc62-47b8-ebb2-0d66aa09e246"
   },
   "outputs": [
    {
     "name": "stderr",
     "output_type": "stream",
     "text": [
      "WARNING: Logging before flag parsing goes to stderr.\n",
      "W0827 07:26:11.389356 140594825811840 deprecation_wrapper.py:119] From /usr/local/lib/python3.6/dist-packages/keras/backend/tensorflow_backend.py:74: The name tf.get_default_graph is deprecated. Please use tf.compat.v1.get_default_graph instead.\n",
      "\n",
      "W0827 07:26:11.424993 140594825811840 deprecation_wrapper.py:119] From /usr/local/lib/python3.6/dist-packages/keras/backend/tensorflow_backend.py:517: The name tf.placeholder is deprecated. Please use tf.compat.v1.placeholder instead.\n",
      "\n",
      "W0827 07:26:11.431691 140594825811840 deprecation_wrapper.py:119] From /usr/local/lib/python3.6/dist-packages/keras/backend/tensorflow_backend.py:4138: The name tf.random_uniform is deprecated. Please use tf.random.uniform instead.\n",
      "\n",
      "W0827 07:26:11.473642 140594825811840 deprecation_wrapper.py:119] From /usr/local/lib/python3.6/dist-packages/keras/backend/tensorflow_backend.py:3976: The name tf.nn.max_pool is deprecated. Please use tf.nn.max_pool2d instead.\n",
      "\n"
     ]
    }
   ],
   "source": [
    "fashion_model = Sequential()\n",
    "fashion_model.add(Conv2D(32, kernel_size=(3, 3),activation='linear',input_shape=(28,28,1),padding='same'))\n",
    "fashion_model.add(LeakyReLU(alpha=0.1))\n",
    "fashion_model.add(MaxPooling2D((2, 2),padding='same'))\n",
    "fashion_model.add(Conv2D(64, (3, 3), activation='linear',padding='same'))\n",
    "fashion_model.add(LeakyReLU(alpha=0.1))\n",
    "fashion_model.add(MaxPooling2D(pool_size=(2, 2),padding='same'))\n",
    "fashion_model.add(Conv2D(128, (3, 3), activation='linear',padding='same'))\n",
    "fashion_model.add(LeakyReLU(alpha=0.1))                  \n",
    "fashion_model.add(MaxPooling2D(pool_size=(2, 2),padding='same'))\n",
    "fashion_model.add(Flatten())\n",
    "fashion_model.add(Dense(128, activation='linear'))\n",
    "fashion_model.add(LeakyReLU(alpha=0.1))                  \n",
    "fashion_model.add(Dense(num_classes, activation='softmax'))"
   ]
  },
  {
   "cell_type": "markdown",
   "metadata": {
    "colab_type": "text",
    "id": "6mYQbP5p0-gV"
   },
   "source": [
    "Compile the model"
   ]
  },
  {
   "cell_type": "code",
   "execution_count": null,
   "metadata": {
    "colab": {
     "base_uri": "https://localhost:8080/",
     "height": 105
    },
    "colab_type": "code",
    "id": "laXmWX4b1Cnx",
    "outputId": "15740cef-d791-496d-bb8a-f6bb8adac610"
   },
   "outputs": [
    {
     "name": "stderr",
     "output_type": "stream",
     "text": [
      "W0827 07:26:11.564351 140594825811840 deprecation_wrapper.py:119] From /usr/local/lib/python3.6/dist-packages/keras/optimizers.py:790: The name tf.train.Optimizer is deprecated. Please use tf.compat.v1.train.Optimizer instead.\n",
      "\n",
      "W0827 07:26:11.575227 140594825811840 deprecation_wrapper.py:119] From /usr/local/lib/python3.6/dist-packages/keras/backend/tensorflow_backend.py:3295: The name tf.log is deprecated. Please use tf.math.log instead.\n",
      "\n"
     ]
    }
   ],
   "source": [
    "fashion_model.compile(loss=keras.losses.categorical_crossentropy, optimizer=keras.optimizers.Adam(),metrics=['accuracy'])"
   ]
  },
  {
   "cell_type": "code",
   "execution_count": null,
   "metadata": {
    "colab": {
     "base_uri": "https://localhost:8080/",
     "height": 578
    },
    "colab_type": "code",
    "id": "2bTzpWFU1MyX",
    "outputId": "fc3729d8-4f40-4b6d-8778-42db848fd8d3"
   },
   "outputs": [
    {
     "name": "stdout",
     "output_type": "stream",
     "text": [
      "_________________________________________________________________\n",
      "Layer (type)                 Output Shape              Param #   \n",
      "=================================================================\n",
      "conv2d_1 (Conv2D)            (None, 28, 28, 32)        320       \n",
      "_________________________________________________________________\n",
      "leaky_re_lu_1 (LeakyReLU)    (None, 28, 28, 32)        0         \n",
      "_________________________________________________________________\n",
      "max_pooling2d_1 (MaxPooling2 (None, 14, 14, 32)        0         \n",
      "_________________________________________________________________\n",
      "conv2d_2 (Conv2D)            (None, 14, 14, 64)        18496     \n",
      "_________________________________________________________________\n",
      "leaky_re_lu_2 (LeakyReLU)    (None, 14, 14, 64)        0         \n",
      "_________________________________________________________________\n",
      "max_pooling2d_2 (MaxPooling2 (None, 7, 7, 64)          0         \n",
      "_________________________________________________________________\n",
      "conv2d_3 (Conv2D)            (None, 7, 7, 128)         73856     \n",
      "_________________________________________________________________\n",
      "leaky_re_lu_3 (LeakyReLU)    (None, 7, 7, 128)         0         \n",
      "_________________________________________________________________\n",
      "max_pooling2d_3 (MaxPooling2 (None, 4, 4, 128)         0         \n",
      "_________________________________________________________________\n",
      "flatten_1 (Flatten)          (None, 2048)              0         \n",
      "_________________________________________________________________\n",
      "dense_1 (Dense)              (None, 128)               262272    \n",
      "_________________________________________________________________\n",
      "leaky_re_lu_4 (LeakyReLU)    (None, 128)               0         \n",
      "_________________________________________________________________\n",
      "dense_2 (Dense)              (None, 10)                1290      \n",
      "=================================================================\n",
      "Total params: 356,234\n",
      "Trainable params: 356,234\n",
      "Non-trainable params: 0\n",
      "_________________________________________________________________\n"
     ]
    }
   ],
   "source": [
    "fashion_model.summary()\n"
   ]
  },
  {
   "cell_type": "markdown",
   "metadata": {
    "colab_type": "text",
    "id": "fNIHcCQS1RtF"
   },
   "source": [
    "Train the model using keras"
   ]
  },
  {
   "cell_type": "code",
   "execution_count": null,
   "metadata": {
    "colab": {
     "base_uri": "https://localhost:8080/",
     "height": 819
    },
    "colab_type": "code",
    "id": "eObNy3iO1TgL",
    "outputId": "316148e4-dbbd-4702-e52b-68c5b8b972bf"
   },
   "outputs": [
    {
     "name": "stderr",
     "output_type": "stream",
     "text": [
      "W0827 07:26:11.722959 140594825811840 deprecation.py:323] From /usr/local/lib/python3.6/dist-packages/tensorflow/python/ops/math_grad.py:1250: add_dispatch_support.<locals>.wrapper (from tensorflow.python.ops.array_ops) is deprecated and will be removed in a future version.\n",
      "Instructions for updating:\n",
      "Use tf.where in 2.0, which has the same broadcast rule as np.where\n",
      "W0827 07:26:11.795325 140594825811840 deprecation_wrapper.py:119] From /usr/local/lib/python3.6/dist-packages/keras/backend/tensorflow_backend.py:986: The name tf.assign_add is deprecated. Please use tf.compat.v1.assign_add instead.\n",
      "\n"
     ]
    },
    {
     "name": "stdout",
     "output_type": "stream",
     "text": [
      "Train on 48000 samples, validate on 12000 samples\n",
      "Epoch 1/20\n",
      "48000/48000 [==============================] - 81s 2ms/step - loss: 0.5258 - acc: 0.8074 - val_loss: 0.3573 - val_acc: 0.8695\n",
      "Epoch 2/20\n",
      "48000/48000 [==============================] - 80s 2ms/step - loss: 0.3144 - acc: 0.8855 - val_loss: 0.3123 - val_acc: 0.8896\n",
      "Epoch 3/20\n",
      "48000/48000 [==============================] - 80s 2ms/step - loss: 0.2658 - acc: 0.9025 - val_loss: 0.2740 - val_acc: 0.9008\n",
      "Epoch 4/20\n",
      "48000/48000 [==============================] - 80s 2ms/step - loss: 0.2388 - acc: 0.9124 - val_loss: 0.2471 - val_acc: 0.9120\n",
      "Epoch 5/20\n",
      "48000/48000 [==============================] - 80s 2ms/step - loss: 0.2105 - acc: 0.9241 - val_loss: 0.2497 - val_acc: 0.9082\n",
      "Epoch 6/20\n",
      "48000/48000 [==============================] - 81s 2ms/step - loss: 0.1916 - acc: 0.9301 - val_loss: 0.2332 - val_acc: 0.9143\n",
      "Epoch 7/20\n",
      "48000/48000 [==============================] - 80s 2ms/step - loss: 0.1718 - acc: 0.9354 - val_loss: 0.2568 - val_acc: 0.9077\n",
      "Epoch 8/20\n",
      "48000/48000 [==============================] - 80s 2ms/step - loss: 0.1541 - acc: 0.9425 - val_loss: 0.2255 - val_acc: 0.9191\n",
      "Epoch 9/20\n",
      "48000/48000 [==============================] - 80s 2ms/step - loss: 0.1367 - acc: 0.9490 - val_loss: 0.2371 - val_acc: 0.9199\n",
      "Epoch 10/20\n",
      "48000/48000 [==============================] - 80s 2ms/step - loss: 0.1227 - acc: 0.9545 - val_loss: 0.2253 - val_acc: 0.9257\n",
      "Epoch 11/20\n",
      "48000/48000 [==============================] - 81s 2ms/step - loss: 0.1100 - acc: 0.9581 - val_loss: 0.2365 - val_acc: 0.9247\n",
      "Epoch 12/20\n",
      "48000/48000 [==============================] - 80s 2ms/step - loss: 0.0933 - acc: 0.9652 - val_loss: 0.2492 - val_acc: 0.9253\n",
      "Epoch 13/20\n",
      "48000/48000 [==============================] - 80s 2ms/step - loss: 0.0841 - acc: 0.9696 - val_loss: 0.2602 - val_acc: 0.9168\n",
      "Epoch 14/20\n",
      "48000/48000 [==============================] - 80s 2ms/step - loss: 0.0683 - acc: 0.9753 - val_loss: 0.2654 - val_acc: 0.9229\n",
      "Epoch 15/20\n",
      "48000/48000 [==============================] - 80s 2ms/step - loss: 0.0607 - acc: 0.9774 - val_loss: 0.2806 - val_acc: 0.9202\n",
      "Epoch 16/20\n",
      "48000/48000 [==============================] - 80s 2ms/step - loss: 0.0517 - acc: 0.9817 - val_loss: 0.3013 - val_acc: 0.9192\n",
      "Epoch 17/20\n",
      "48000/48000 [==============================] - 80s 2ms/step - loss: 0.0472 - acc: 0.9823 - val_loss: 0.3287 - val_acc: 0.9178\n",
      "Epoch 18/20\n",
      "48000/48000 [==============================] - 80s 2ms/step - loss: 0.0394 - acc: 0.9855 - val_loss: 0.3369 - val_acc: 0.9209\n",
      "Epoch 19/20\n",
      "48000/48000 [==============================] - 81s 2ms/step - loss: 0.0334 - acc: 0.9880 - val_loss: 0.3861 - val_acc: 0.9152\n",
      "Epoch 20/20\n",
      "48000/48000 [==============================] - 80s 2ms/step - loss: 0.0380 - acc: 0.9867 - val_loss: 0.3697 - val_acc: 0.9227\n"
     ]
    }
   ],
   "source": [
    "fashion_train = fashion_model.fit(X_train, train_label, batch_size=batch_size,epochs=epochs,verbose=1,validation_data=(X_valid, valid_label))\n"
   ]
  },
  {
   "cell_type": "markdown",
   "metadata": {
    "colab_type": "text",
    "id": "3tHJc8WCBGGn"
   },
   "source": [
    "Now we are going to evaluate the model, in order to do the plots for the accurancy and the loss comparing the training and the validating data. "
   ]
  },
  {
   "cell_type": "code",
   "execution_count": null,
   "metadata": {
    "colab": {
     "base_uri": "https://localhost:8080/",
     "height": 51
    },
    "colab_type": "code",
    "id": "PFN_lxE3Eg_R",
    "outputId": "49c01fe7-60a6-40b1-b36e-b39a62d6451f"
   },
   "outputs": [
    {
     "name": "stdout",
     "output_type": "stream",
     "text": [
      "Test loss: 0.4065499418217689\n",
      "Test accuracy: 0.9177\n"
     ]
    }
   ],
   "source": [
    "test_eval = fashion_model.evaluate(X_test, Y_test_encode, verbose=0)\n",
    "print('Test loss:', test_eval[0])\n",
    "print('Test accuracy:', test_eval[1])"
   ]
  },
  {
   "cell_type": "code",
   "execution_count": null,
   "metadata": {
    "colab": {
     "base_uri": "https://localhost:8080/",
     "height": 545
    },
    "colab_type": "code",
    "id": "k0Nqfq1gFFeF",
    "outputId": "e48f8ef6-0c68-49df-a6f8-f706f669a229"
   },
   "outputs": [
    {
     "data": {
      "image/png": "[encoded data removed]",
      "text/plain": [
       "<Figure size 432x288 with 1 Axes>"
      ]
     },
     "metadata": {
      "tags": []
     },
     "output_type": "display_data"
    },
    {
     "data": {
      "image/png": "[encoded data removed]",
      "text/plain": [
       "<Figure size 432x288 with 1 Axes>"
      ]
     },
     "metadata": {
      "tags": []
     },
     "output_type": "display_data"
    }
   ],
   "source": [
    "accuracy = fashion_train.history['acc']\n",
    "val_accuracy = fashion_train.history['val_acc']\n",
    "loss = fashion_train.history['loss']\n",
    "val_loss = fashion_train.history['val_loss']\n",
    "epochs = range(len(accuracy))\n",
    "plt.plot(epochs, accuracy, 'bo', label='Training accuracy')\n",
    "plt.plot(epochs, val_accuracy, 'b', label='Validation accuracy')\n",
    "plt.title('Training and validation accuracy')\n",
    "plt.legend()\n",
    "plt.figure()\n",
    "plt.plot(epochs, loss, 'bo', label='Training loss')\n",
    "plt.plot(epochs, val_loss, 'b', label='Validation loss')\n",
    "plt.title('Training and validation loss')\n",
    "plt.legend()\n",
    "plt.show()"
   ]
  },
  {
   "cell_type": "markdown",
   "metadata": {
    "colab_type": "text",
    "id": "hJpALLhDFSmR"
   },
   "source": [
    "From the above plots we can see that after 4.5 epocs aprox the system start memorizing the data. So, in order to overcome this problem we are going to add a dropout layer."
   ]
  },
  {
   "cell_type": "code",
   "execution_count": null,
   "metadata": {
    "colab": {},
    "colab_type": "code",
    "id": "PLLwietnFLnC"
   },
   "outputs": [],
   "source": [
    "batch_size = 128\n",
    "epochs = 20\n",
    "num_classes = 10"
   ]
  },
  {
   "cell_type": "code",
   "execution_count": null,
   "metadata": {
    "colab": {
     "base_uri": "https://localhost:8080/",
     "height": 88
    },
    "colab_type": "code",
    "id": "r9cJGJ7zFYc3",
    "outputId": "252f1605-7130-4fae-cd9b-1f05f0299eff"
   },
   "outputs": [
    {
     "name": "stderr",
     "output_type": "stream",
     "text": [
      "W0827 07:53:04.892314 140594825811840 deprecation.py:506] From /usr/local/lib/python3.6/dist-packages/keras/backend/tensorflow_backend.py:3445: calling dropout (from tensorflow.python.ops.nn_ops) with keep_prob is deprecated and will be removed in a future version.\n",
      "Instructions for updating:\n",
      "Please use `rate` instead of `keep_prob`. Rate should be set to `rate = 1 - keep_prob`.\n"
     ]
    }
   ],
   "source": [
    "fashion_model = Sequential()\n",
    "fashion_model.add(Conv2D(32, kernel_size=(3, 3),activation='linear',padding='same',input_shape=X_train.shape[1:]))\n",
    "fashion_model.add(LeakyReLU(alpha=0.1))\n",
    "fashion_model.add(MaxPooling2D((2, 2),padding='same'))\n",
    "fashion_model.add(Dropout(0.25))\n",
    "fashion_model.add(Conv2D(64, (3, 3), activation='linear',padding='same'))\n",
    "fashion_model.add(LeakyReLU(alpha=0.1))\n",
    "fashion_model.add(MaxPooling2D(pool_size=(2, 2),padding='same'))\n",
    "fashion_model.add(Dropout(0.25))\n",
    "fashion_model.add(Conv2D(128, (3, 3), activation='linear',padding='same'))\n",
    "fashion_model.add(LeakyReLU(alpha=0.1))                  \n",
    "fashion_model.add(MaxPooling2D(pool_size=(2, 2),padding='same'))\n",
    "fashion_model.add(Dropout(0.4))\n",
    "fashion_model.add(Flatten())\n",
    "fashion_model.add(Dense(128, activation='linear'))\n",
    "fashion_model.add(LeakyReLU(alpha=0.1))           \n",
    "fashion_model.add(Dropout(0.3))\n",
    "fashion_model.add(Dense(num_classes, activation='softmax'))"
   ]
  },
  {
   "cell_type": "code",
   "execution_count": null,
   "metadata": {
    "colab": {
     "base_uri": "https://localhost:8080/",
     "height": 714
    },
    "colab_type": "code",
    "id": "zliKF1HWFoGJ",
    "outputId": "208138c7-9401-4700-f5d0-02e852106295"
   },
   "outputs": [
    {
     "name": "stdout",
     "output_type": "stream",
     "text": [
      "_________________________________________________________________\n",
      "Layer (type)                 Output Shape              Param #   \n",
      "=================================================================\n",
      "conv2d_4 (Conv2D)            (None, 28, 28, 32)        320       \n",
      "_________________________________________________________________\n",
      "leaky_re_lu_5 (LeakyReLU)    (None, 28, 28, 32)        0         \n",
      "_________________________________________________________________\n",
      "max_pooling2d_4 (MaxPooling2 (None, 14, 14, 32)        0         \n",
      "_________________________________________________________________\n",
      "dropout_1 (Dropout)          (None, 14, 14, 32)        0         \n",
      "_________________________________________________________________\n",
      "conv2d_5 (Conv2D)            (None, 14, 14, 64)        18496     \n",
      "_________________________________________________________________\n",
      "leaky_re_lu_6 (LeakyReLU)    (None, 14, 14, 64)        0         \n",
      "_________________________________________________________________\n",
      "max_pooling2d_5 (MaxPooling2 (None, 7, 7, 64)          0         \n",
      "_________________________________________________________________\n",
      "dropout_2 (Dropout)          (None, 7, 7, 64)          0         \n",
      "_________________________________________________________________\n",
      "conv2d_6 (Conv2D)            (None, 7, 7, 128)         73856     \n",
      "_________________________________________________________________\n",
      "leaky_re_lu_7 (LeakyReLU)    (None, 7, 7, 128)         0         \n",
      "_________________________________________________________________\n",
      "max_pooling2d_6 (MaxPooling2 (None, 4, 4, 128)         0         \n",
      "_________________________________________________________________\n",
      "dropout_3 (Dropout)          (None, 4, 4, 128)         0         \n",
      "_________________________________________________________________\n",
      "flatten_2 (Flatten)          (None, 2048)              0         \n",
      "_________________________________________________________________\n",
      "dense_3 (Dense)              (None, 128)               262272    \n",
      "_________________________________________________________________\n",
      "leaky_re_lu_8 (LeakyReLU)    (None, 128)               0         \n",
      "_________________________________________________________________\n",
      "dropout_4 (Dropout)          (None, 128)               0         \n",
      "_________________________________________________________________\n",
      "dense_4 (Dense)              (None, 10)                1290      \n",
      "=================================================================\n",
      "Total params: 356,234\n",
      "Trainable params: 356,234\n",
      "Non-trainable params: 0\n",
      "_________________________________________________________________\n"
     ]
    }
   ],
   "source": [
    "fashion_model.summary()\n"
   ]
  },
  {
   "cell_type": "code",
   "execution_count": null,
   "metadata": {
    "colab": {},
    "colab_type": "code",
    "id": "SXo1AQxzFqrD"
   },
   "outputs": [],
   "source": [
    "fashion_model.compile(loss=keras.losses.categorical_crossentropy, optimizer=keras.optimizers.Adam(),metrics=['accuracy'])\n"
   ]
  },
  {
   "cell_type": "code",
   "execution_count": null,
   "metadata": {
    "colab": {
     "base_uri": "https://localhost:8080/",
     "height": 714
    },
    "colab_type": "code",
    "id": "vZ3DanLQF1fK",
    "outputId": "52c98aa8-c714-4cfc-d458-33887773b5e9"
   },
   "outputs": [
    {
     "name": "stdout",
     "output_type": "stream",
     "text": [
      "Train on 48000 samples, validate on 12000 samples\n",
      "Epoch 1/20\n",
      "48000/48000 [==============================] - 88s 2ms/step - loss: 0.6689 - acc: 0.7496 - val_loss: 0.3930 - val_acc: 0.8567\n",
      "Epoch 2/20\n",
      "48000/48000 [==============================] - 88s 2ms/step - loss: 0.4061 - acc: 0.8515 - val_loss: 0.3368 - val_acc: 0.8772\n",
      "Epoch 3/20\n",
      "48000/48000 [==============================] - 88s 2ms/step - loss: 0.3529 - acc: 0.8709 - val_loss: 0.3090 - val_acc: 0.8866\n",
      "Epoch 4/20\n",
      "48000/48000 [==============================] - 88s 2ms/step - loss: 0.3185 - acc: 0.8839 - val_loss: 0.2890 - val_acc: 0.8924\n",
      "Epoch 5/20\n",
      "48000/48000 [==============================] - 88s 2ms/step - loss: 0.2961 - acc: 0.8912 - val_loss: 0.2671 - val_acc: 0.9018\n",
      "Epoch 6/20\n",
      "48000/48000 [==============================] - 88s 2ms/step - loss: 0.2805 - acc: 0.8959 - val_loss: 0.2591 - val_acc: 0.9044\n",
      "Epoch 7/20\n",
      "48000/48000 [==============================] - 88s 2ms/step - loss: 0.2675 - acc: 0.9009 - val_loss: 0.2503 - val_acc: 0.9070\n",
      "Epoch 8/20\n",
      "48000/48000 [==============================] - 89s 2ms/step - loss: 0.2570 - acc: 0.9040 - val_loss: 0.2456 - val_acc: 0.9099\n",
      "Epoch 9/20\n",
      "48000/48000 [==============================] - 89s 2ms/step - loss: 0.2493 - acc: 0.9076 - val_loss: 0.2328 - val_acc: 0.9169\n",
      "Epoch 10/20\n",
      "48000/48000 [==============================] - 88s 2ms/step - loss: 0.2402 - acc: 0.9099 - val_loss: 0.2313 - val_acc: 0.9168\n",
      "Epoch 11/20\n",
      "48000/48000 [==============================] - 88s 2ms/step - loss: 0.2347 - acc: 0.9121 - val_loss: 0.2294 - val_acc: 0.9147\n",
      "Epoch 12/20\n",
      "48000/48000 [==============================] - 89s 2ms/step - loss: 0.2308 - acc: 0.9142 - val_loss: 0.2205 - val_acc: 0.9207\n",
      "Epoch 13/20\n",
      "48000/48000 [==============================] - 88s 2ms/step - loss: 0.2251 - acc: 0.9174 - val_loss: 0.2173 - val_acc: 0.9204\n",
      "Epoch 14/20\n",
      "48000/48000 [==============================] - 88s 2ms/step - loss: 0.2147 - acc: 0.9195 - val_loss: 0.2165 - val_acc: 0.9227\n",
      "Epoch 15/20\n",
      "48000/48000 [==============================] - 88s 2ms/step - loss: 0.2165 - acc: 0.9191 - val_loss: 0.2135 - val_acc: 0.9207\n",
      "Epoch 16/20\n",
      "48000/48000 [==============================] - 88s 2ms/step - loss: 0.2082 - acc: 0.9221 - val_loss: 0.2093 - val_acc: 0.9244\n",
      "Epoch 17/20\n",
      "48000/48000 [==============================] - 89s 2ms/step - loss: 0.2077 - acc: 0.9217 - val_loss: 0.2138 - val_acc: 0.9240\n",
      "Epoch 18/20\n",
      "48000/48000 [==============================] - 88s 2ms/step - loss: 0.2015 - acc: 0.9246 - val_loss: 0.2151 - val_acc: 0.9238\n",
      "Epoch 19/20\n",
      "48000/48000 [==============================] - 88s 2ms/step - loss: 0.2016 - acc: 0.9238 - val_loss: 0.2072 - val_acc: 0.9258\n",
      "Epoch 20/20\n",
      "48000/48000 [==============================] - 89s 2ms/step - loss: 0.1975 - acc: 0.9258 - val_loss: 0.2063 - val_acc: 0.9249\n"
     ]
    }
   ],
   "source": [
    "fashion_train_dropout = fashion_model.fit(X_train, train_label, batch_size=batch_size,epochs=epochs,verbose=1,validation_data=(X_valid, valid_label))\n"
   ]
  },
  {
   "cell_type": "code",
   "execution_count": null,
   "metadata": {
    "colab": {
     "base_uri": "https://localhost:8080/",
     "height": 34
    },
    "colab_type": "code",
    "id": "ZHBF3RnwNEeL",
    "outputId": "c29dba60-f6e1-4fc1-a356-d1e1dbb26f06"
   },
   "outputs": [
    {
     "name": "stdout",
     "output_type": "stream",
     "text": [
      "10000/10000 [==============================] - 5s 503us/step\n"
     ]
    }
   ],
   "source": [
    "test_eval = fashion_model.evaluate(X_test, Y_test_encode, verbose=1)"
   ]
  },
  {
   "cell_type": "code",
   "execution_count": null,
   "metadata": {
    "colab": {
     "base_uri": "https://localhost:8080/",
     "height": 51
    },
    "colab_type": "code",
    "id": "KSeizbDkNdXs",
    "outputId": "936e4799-dc8c-4aac-cb92-77275316e731"
   },
   "outputs": [
    {
     "name": "stdout",
     "output_type": "stream",
     "text": [
      "Test loss: 0.21355641158521174\n",
      "Test accuracy: 0.9237\n"
     ]
    }
   ],
   "source": [
    "print('Test loss:', test_eval[0])\n",
    "print('Test accuracy:', test_eval[1])"
   ]
  },
  {
   "cell_type": "code",
   "execution_count": null,
   "metadata": {
    "colab": {
     "base_uri": "https://localhost:8080/",
     "height": 562
    },
    "colab_type": "code",
    "id": "6ytNgNwWORP9",
    "outputId": "1c1ed648-79d1-4d15-d1ff-0c85f0c88fd2"
   },
   "outputs": [
    {
     "data": {
      "text/plain": [
       "<matplotlib.legend.Legend at 0x7fde7dc9bf28>"
      ]
     },
     "execution_count": 25,
     "metadata": {
      "tags": []
     },
     "output_type": "execute_result"
    },
    {
     "data": {
      "image/png": "[encoded data removed]",
      "text/plain": [
       "<Figure size 432x288 with 1 Axes>"
      ]
     },
     "metadata": {
      "tags": []
     },
     "output_type": "display_data"
    },
    {
     "data": {
      "image/png": "[encoded data removed]",
      "text/plain": [
       "<Figure size 432x288 with 1 Axes>"
      ]
     },
     "metadata": {
      "tags": []
     },
     "output_type": "display_data"
    }
   ],
   "source": [
    "accuracy = fashion_train_dropout.history['acc']\n",
    "val_accuracy = fashion_train_dropout.history['val_acc']\n",
    "loss = fashion_train_dropout.history['loss']\n",
    "val_loss = fashion_train_dropout.history['val_loss']\n",
    "epochs = range(len(accuracy))\n",
    "plt.plot(epochs, accuracy, 'bo', label='Training accuracy')\n",
    "plt.plot(epochs, val_accuracy, 'b', label='Validation accuracy')\n",
    "plt.title('Training and validation accuracy')\n",
    "plt.legend()\n",
    "plt.figure()\n",
    "plt.plot(epochs, loss, 'bo', label='Training loss')\n",
    "plt.plot(epochs, val_loss, 'b', label='Validation loss')\n",
    "plt.title('Training and validation loss')\n",
    "plt.legend()"
   ]
  },
  {
   "cell_type": "code",
   "execution_count": null,
   "metadata": {
    "colab": {},
    "colab_type": "code",
    "id": "yVnbMb9I4Eiw"
   },
   "outputs": [],
   "source": [
    "predicted_classes = fashion_model.predict(X_test)\n"
   ]
  },
  {
   "cell_type": "code",
   "execution_count": null,
   "metadata": {
    "colab": {},
    "colab_type": "code",
    "id": "UjSXJyzB4yMW"
   },
   "outputs": [],
   "source": [
    "predicted_classes = np.argmax(np.round(predicted_classes),axis=1)\n"
   ]
  },
  {
   "cell_type": "code",
   "execution_count": null,
   "metadata": {
    "colab": {
     "base_uri": "https://localhost:8080/",
     "height": 34
    },
    "colab_type": "code",
    "id": "O0Zd7hk64_ww",
    "outputId": "f0d8227a-a123-4784-c828-88d3077cb4f7"
   },
   "outputs": [
    {
     "name": "stdout",
     "output_type": "stream",
     "text": [
      "9188\n"
     ]
    }
   ],
   "source": [
    "correct = np.where(predicted_classes==Y_test)[0]\n",
    "print  (len(correct))\n"
   ]
  },
  {
   "cell_type": "code",
   "execution_count": null,
   "metadata": {
    "colab": {
     "base_uri": "https://localhost:8080/",
     "height": 34
    },
    "colab_type": "code",
    "id": "ytW1LJAT5lqX",
    "outputId": "60948773-54be-4636-f7b3-ea9adcffb069"
   },
   "outputs": [
    {
     "name": "stdout",
     "output_type": "stream",
     "text": [
      "812\n"
     ]
    }
   ],
   "source": [
    "incorrect = np.where(predicted_classes!=Y_test)[0]\n",
    "print (len(incorrect))\n"
   ]
  },
  {
   "cell_type": "markdown",
   "metadata": {
    "colab_type": "text",
    "id": "Ju76bRzx6LNa"
   },
   "source": [
    "Classification Report"
   ]
  },
  {
   "cell_type": "code",
   "execution_count": null,
   "metadata": {
    "colab": {
     "base_uri": "https://localhost:8080/",
     "height": 306
    },
    "colab_type": "code",
    "id": "qpO_V8Wq6Odd",
    "outputId": "619b0389-1af8-43b1-8b94-2d1d0f635361"
   },
   "outputs": [
    {
     "name": "stdout",
     "output_type": "stream",
     "text": [
      "              precision    recall  f1-score   support\n",
      "\n",
      "     Class 0       0.77      0.91      0.84      1000\n",
      "     Class 1       0.99      0.99      0.99      1000\n",
      "     Class 2       0.90      0.88      0.89      1000\n",
      "     Class 3       0.94      0.89      0.92      1000\n",
      "     Class 4       0.85      0.91      0.88      1000\n",
      "     Class 5       0.99      0.98      0.99      1000\n",
      "     Class 6       0.83      0.70      0.76      1000\n",
      "     Class 7       0.96      0.98      0.97      1000\n",
      "     Class 8       0.99      0.98      0.99      1000\n",
      "     Class 9       0.98      0.96      0.97      1000\n",
      "\n",
      "    accuracy                           0.92     10000\n",
      "   macro avg       0.92      0.92      0.92     10000\n",
      "weighted avg       0.92      0.92      0.92     10000\n",
      "\n"
     ]
    }
   ],
   "source": [
    "from sklearn.metrics import classification_report\n",
    "target_names = [\"Class {}\".format(i) for i in range(num_classes)]\n",
    "print(classification_report(Y_test, predicted_classes, target_names=target_names))"
   ]
  },
  {
   "cell_type": "markdown",
   "metadata": {
    "colab_type": "text",
    "id": "r1zFaja6is_u"
   },
   "source": [
    "**Training dataset images using augmentation **"
   ]
  },
  {
   "cell_type": "code",
   "execution_count": null,
   "metadata": {
    "colab": {},
    "colab_type": "code",
    "id": "ZqKyy2S-jCSp"
   },
   "outputs": [],
   "source": [
    "from keras import backend as K\n",
    "from keras.layers import Conv2D, Lambda, MaxPooling2D\n",
    "from keras.layers import Dense, Dropout, Activation, Flatten\n",
    "\n",
    "\n",
    "\n",
    "\n",
    "if K.backend() != 'tensorflow':\n",
    "    raise RuntimeError('')\n",
    "\n",
    "    \n",
    "import tensorflow as tf  \n",
    "    \n",
    "\n",
    "def augment_2d(inputs, rotation=0, horizontal_flip=False, vertical_flip=False):\n",
    "\n",
    "    if inputs.dtype != tf.float32:\n",
    "        inputs = tf.image.convert_image_dtype(inputs, dtype=tf.float32)\n",
    "\n",
    "    with tf.name_scope('augmentation'):\n",
    "        shp = tf.shape(inputs)\n",
    "        batch_size, height, width = shp[0], shp[1], shp[2]\n",
    "        width = tf.cast(width, tf.float32)\n",
    "        height = tf.cast(height, tf.float32)\n",
    "\n",
    "        transforms = []\n",
    "        identity = tf.constant([1, 0, 0, 0, 1, 0, 0, 0], dtype=tf.float32)\n",
    "\n",
    "        if rotation > 0:\n",
    "            angle_rad = rotation * 3.141592653589793 / 180.0\n",
    "            angles = tf.random_uniform([batch_size], -angle_rad, angle_rad)\n",
    "            f = tf.contrib.image.angles_to_projective_transforms(angles,\n",
    "                                                                 height, width)\n",
    "            transforms.append(f)\n",
    "\n",
    "        if horizontal_flip:\n",
    "            coin = tf.less(tf.random_uniform([batch_size], 0, 1.0), 0.5)\n",
    "            shape = [-1., 0., width, 0., 1., 0., 0., 0.]\n",
    "            flip_transform = tf.convert_to_tensor(shape, dtype=tf.float32)\n",
    "            flip = tf.tile(tf.expand_dims(flip_transform, 0), [batch_size, 1])\n",
    "            noflip = tf.tile(tf.expand_dims(identity, 0), [batch_size, 1])\n",
    "            transforms.append(tf.where(coin, flip, noflip))\n",
    "\n",
    "        if vertical_flip:\n",
    "            coin = tf.less(tf.random_uniform([batch_size], 0, 1.0), 0.5)\n",
    "            shape = [1., 0., 0., 0., -1., height, 0., 0.]\n",
    "            flip_transform = tf.convert_to_tensor(shape, dtype=tf.float32)\n",
    "            flip = tf.tile(tf.expand_dims(flip_transform, 0), [batch_size, 1])\n",
    "            noflip = tf.tile(tf.expand_dims(identity, 0), [batch_size, 1])\n",
    "            transforms.append(tf.where(coin, flip, noflip))\n",
    "\n",
    "    if transforms:\n",
    "        f = tf.contrib.image.compose_transforms(*transforms)\n",
    "        inputs = tf.contrib.image.transform(inputs, f, interpolation='BILINEAR')\n",
    "    return inputs\n",
    "\n"
   ]
  },
  {
   "cell_type": "code",
   "execution_count": null,
   "metadata": {
    "colab": {},
    "colab_type": "code",
    "id": "jy7mzaHZNlt9"
   },
   "outputs": [],
   "source": [
    "batch_size = 128\n",
    "epochs = 20\n",
    "num_classes = 10\n",
    "\n",
    "\n"
   ]
  },
  {
   "cell_type": "code",
   "execution_count": null,
   "metadata": {
    "colab": {},
    "colab_type": "code",
    "id": "qGfZkEE2RYsC"
   },
   "outputs": [],
   "source": [
    "fashion_model = Sequential()\n",
    "fashion_model.add(Conv2D(32, (3, 3), input_shape=X_train.shape[1:],padding='same'))\n",
    "fashion_model.add(Activation('relu'))\n",
    "fashion_model.add(Conv2D(32, (3, 3)))\n",
    "fashion_model.add(Activation('relu'))\n",
    "fashion_model.add(MaxPooling2D(pool_size=(2, 2)))\n",
    "fashion_model.add(Dropout(0.25))\n",
    "\n",
    "fashion_model.add(Conv2D(64, (3, 3), padding='same'))\n",
    "fashion_model.add(Activation('relu'))\n",
    "fashion_model.add(Conv2D(64, (3, 3)))\n",
    "fashion_model.add(Activation('relu'))\n",
    "fashion_model.add(MaxPooling2D(pool_size=(2, 2)))\n",
    "fashion_model.add(Dropout(0.25))\n",
    "\n",
    "fashion_model.add(Flatten())\n",
    "fashion_model.add(Dense(512))\n",
    "fashion_model.add(Activation('relu'))\n",
    "fashion_model.add(Dropout(0.5))\n",
    "fashion_model.add(Dense(num_classes))\n",
    "fashion_model.add(Activation('softmax'))"
   ]
  },
  {
   "cell_type": "code",
   "execution_count": null,
   "metadata": {
    "colab": {},
    "colab_type": "code",
    "id": "XQl18NO5ZOQd"
   },
   "outputs": [],
   "source": [
    "# initiate RMSprop optimizer\n",
    "opt = keras.optimizers.rmsprop(lr=0.0001, decay=1e-6)"
   ]
  },
  {
   "cell_type": "code",
   "execution_count": null,
   "metadata": {
    "colab": {},
    "colab_type": "code",
    "id": "XcRjVeLjruDC"
   },
   "outputs": [],
   "source": [
    "from keras.preprocessing.image import ImageDataGenerator\n"
   ]
  },
  {
   "cell_type": "code",
   "execution_count": null,
   "metadata": {
    "colab": {},
    "colab_type": "code",
    "id": "7qPI4_R3wMGb"
   },
   "outputs": [],
   "source": [
    "def create_datagen(train_X):\n",
    "    data_generator = ImageDataGenerator(\n",
    "        rotation_range=20,\n",
    "        width_shift_range=0.02,\n",
    "        height_shift_range=0.02,\n",
    "        horizontal_flip=True)\n",
    "    data_generator.fit(train_X)\n",
    "    return data_generator"
   ]
  },
  {
   "cell_type": "code",
   "execution_count": null,
   "metadata": {
    "colab": {
     "base_uri": "https://localhost:8080/",
     "height": 34
    },
    "colab_type": "code",
    "id": "V7JGeR4zyckw",
    "outputId": "646de53f-3c55-4a55-ce5f-cea64489f0e2"
   },
   "outputs": [
    {
     "data": {
      "text/plain": [
       "<keras.preprocessing.image.ImageDataGenerator at 0x7fde7dca6278>"
      ]
     },
     "execution_count": 37,
     "metadata": {
      "tags": []
     },
     "output_type": "execute_result"
    }
   ],
   "source": [
    "create_datagen(X_train)"
   ]
  },
  {
   "cell_type": "code",
   "execution_count": null,
   "metadata": {
    "colab": {},
    "colab_type": "code",
    "id": "SnnyoPIsG43l"
   },
   "outputs": [],
   "source": [
    "data_generator = ImageDataGenerator(\n",
    "        rotation_range=20,\n",
    "        width_shift_range=0.02,\n",
    "        height_shift_range=0.02,\n",
    "        horizontal_flip=True)\n",
    "data_generator.fit(X_train)"
   ]
  },
  {
   "cell_type": "code",
   "execution_count": null,
   "metadata": {
    "colab": {},
    "colab_type": "code",
    "id": "j-jRyxwWHaNj"
   },
   "outputs": [],
   "source": [
    "fashion_model.compile(loss='categorical_crossentropy',\n",
    "              optimizer=opt,\n",
    "              metrics=['accuracy'])"
   ]
  },
  {
   "cell_type": "code",
   "execution_count": null,
   "metadata": {
    "colab": {
     "base_uri": "https://localhost:8080/",
     "height": 714
    },
    "colab_type": "code",
    "id": "EC4gvUDtwTIU",
    "outputId": "8c5872e2-7bfe-4bc9-d55c-2272388e015c"
   },
   "outputs": [
    {
     "name": "stdout",
     "output_type": "stream",
     "text": [
      "Epoch 1/20\n",
      "1500/1500 [==============================] - 634s 423ms/step - loss: 0.8047 - acc: 0.7042 - val_loss: 0.5272 - val_acc: 0.8071\n",
      "Epoch 2/20\n",
      "1500/1500 [==============================] - 632s 421ms/step - loss: 0.5389 - acc: 0.7989 - val_loss: 0.4457 - val_acc: 0.8387\n",
      "Epoch 3/20\n",
      "1500/1500 [==============================] - 632s 421ms/step - loss: 0.4614 - acc: 0.8285 - val_loss: 0.3777 - val_acc: 0.8625\n",
      "Epoch 4/20\n",
      "1500/1500 [==============================] - 630s 420ms/step - loss: 0.4109 - acc: 0.8477 - val_loss: 0.3427 - val_acc: 0.8752\n",
      "Epoch 5/20\n",
      "1500/1500 [==============================] - 630s 420ms/step - loss: 0.3770 - acc: 0.8613 - val_loss: 0.3401 - val_acc: 0.8798\n",
      "Epoch 6/20\n",
      "1500/1500 [==============================] - 626s 417ms/step - loss: 0.3545 - acc: 0.8698 - val_loss: 0.3200 - val_acc: 0.8856\n",
      "Epoch 7/20\n",
      "1500/1500 [==============================] - 620s 413ms/step - loss: 0.3377 - acc: 0.8751 - val_loss: 0.3055 - val_acc: 0.8907\n",
      "Epoch 8/20\n",
      "1500/1500 [==============================] - 630s 420ms/step - loss: 0.3235 - acc: 0.8818 - val_loss: 0.2872 - val_acc: 0.8971\n",
      "Epoch 9/20\n",
      "1500/1500 [==============================] - 633s 422ms/step - loss: 0.3133 - acc: 0.8861 - val_loss: 0.2945 - val_acc: 0.8952\n",
      "Epoch 10/20\n",
      "1500/1500 [==============================] - 633s 422ms/step - loss: 0.3045 - acc: 0.8886 - val_loss: 0.2828 - val_acc: 0.8978\n",
      "Epoch 11/20\n",
      "1500/1500 [==============================] - 630s 420ms/step - loss: 0.2984 - acc: 0.8917 - val_loss: 0.2774 - val_acc: 0.9028\n",
      "Epoch 12/20\n",
      "1500/1500 [==============================] - 629s 419ms/step - loss: 0.2915 - acc: 0.8941 - val_loss: 0.2608 - val_acc: 0.9059\n",
      "Epoch 13/20\n",
      "1500/1500 [==============================] - 632s 421ms/step - loss: 0.2865 - acc: 0.8963 - val_loss: 0.2669 - val_acc: 0.9067\n",
      "Epoch 14/20\n",
      "1500/1500 [==============================] - 631s 421ms/step - loss: 0.2810 - acc: 0.8986 - val_loss: 0.2653 - val_acc: 0.9050\n",
      "Epoch 15/20\n",
      "1500/1500 [==============================] - 632s 421ms/step - loss: 0.2780 - acc: 0.8993 - val_loss: 0.2543 - val_acc: 0.9141\n",
      "Epoch 16/20\n",
      "1500/1500 [==============================] - 632s 422ms/step - loss: 0.2752 - acc: 0.9007 - val_loss: 0.2513 - val_acc: 0.9092\n",
      "Epoch 17/20\n",
      "1500/1500 [==============================] - 630s 420ms/step - loss: 0.2718 - acc: 0.9024 - val_loss: 0.2522 - val_acc: 0.9115\n",
      "Epoch 18/20\n",
      "1500/1500 [==============================] - 630s 420ms/step - loss: 0.2697 - acc: 0.9032 - val_loss: 0.2534 - val_acc: 0.9109\n",
      "Epoch 19/20\n",
      "1500/1500 [==============================] - 629s 419ms/step - loss: 0.2671 - acc: 0.9043 - val_loss: 0.2585 - val_acc: 0.9076\n",
      "Epoch 20/20\n",
      "1500/1500 [==============================] - 629s 420ms/step - loss: 0.2657 - acc: 0.9045 - val_loss: 0.2468 - val_acc: 0.9148\n"
     ]
    },
    {
     "data": {
      "text/plain": [
       "<keras.callbacks.History at 0x7fde7da61710>"
      ]
     },
     "execution_count": 40,
     "metadata": {
      "tags": []
     },
     "output_type": "execute_result"
    }
   ],
   "source": [
    "fashion_model.fit_generator(data_generator.flow(X_train, train_label, batch_size=batch_size),\n",
    "                    steps_per_epoch=len(X_train)//32,\n",
    "                    epochs=epochs,\n",
    "                    validation_data=(X_valid, valid_label),\n",
    "                    verbose=1)\n"
   ]
  },
  {
   "cell_type": "code",
   "execution_count": null,
   "metadata": {
    "colab": {
     "base_uri": "https://localhost:8080/",
     "height": 34
    },
    "colab_type": "code",
    "id": "1NakOaUJFGRw",
    "outputId": "b3f11eab-64ee-4245-f052-822f429e1ec0"
   },
   "outputs": [
    {
     "name": "stdout",
     "output_type": "stream",
     "text": [
      "10000/10000 [==============================] - 9s 858us/step\n"
     ]
    }
   ],
   "source": [
    "test_eval = fashion_model.evaluate(X_test, Y_test_encode, verbose=1)"
   ]
  },
  {
   "cell_type": "code",
   "execution_count": null,
   "metadata": {
    "colab": {
     "base_uri": "https://localhost:8080/",
     "height": 51
    },
    "colab_type": "code",
    "id": "AGK2EhmnEnfV",
    "outputId": "aaad1f39-7038-43bd-a620-b0abb975f7ca"
   },
   "outputs": [
    {
     "name": "stdout",
     "output_type": "stream",
     "text": [
      "Test loss: 0.25556311938762666\n",
      "Test accuracy: 0.9086\n"
     ]
    }
   ],
   "source": [
    "print('Test loss:', test_eval[0])\n",
    "print('Test accuracy:', test_eval[1])"
   ]
  }
 ],
 "metadata": {
  "colab": {
   "collapsed_sections": [],
   "name": "project_SW.ipynb",
   "provenance": []
  },
  "kernelspec": {
   "display_name": "Python 3",
   "language": "python",
   "name": "python3"
  },
  "language_info": {
   "codemirror_mode": {
    "name": "ipython",
    "version": 3
   },
   "file_extension": ".py",
   "mimetype": "text/x-python",
   "name": "python",
   "nbconvert_exporter": "python",
   "pygments_lexer": "ipython3",
   "version": "3.6.4"
  }
 },
 "nbformat": 4,
 "nbformat_minor": 1
}
